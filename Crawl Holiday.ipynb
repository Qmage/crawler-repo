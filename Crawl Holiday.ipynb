{
 "cells": [
  {
   "cell_type": "code",
   "execution_count": null,
   "metadata": {
    "collapsed": true
   },
   "outputs": [],
   "source": [
    "from dateutil.parser import parse\n",
    "import requests\n",
    "from lxml import html"
   ]
  },
  {
   "cell_type": "code",
   "execution_count": 29,
   "metadata": {
    "collapsed": false,
    "scrolled": true
   },
   "outputs": [],
   "source": [
    "holiday_list = []\n",
    "for i in range(0,20):\n",
    "    year = i+1997\n",
    "    page = requests.get('https://www.timeanddate.com/calendar/?year={}&country=69&lang=en'.format(year))\n",
    "    tree = html.fromstring(page.content)\n",
    "    xpaths1 = tree.xpath(\"\"\"//td[@class='vt']/table[@class='cht lpad']/tbody/tr/td[1]/span[contains(@class, 'co1')]\"\"\")\n",
    "    xpaths2 = tree.xpath(\"\"\"//td[@class='vt']/table[@class='cht lpad']/tbody/tr/td[2][preceding-sibling::td/span[@class='co1']]\"\"\")\n",
    "    for x1,x2 in zip(xpaths1,xpaths2):\n",
    "        holiday_list.append( (parse(\"{} {}\".format(x1.text,str(year)) ), x2.text) )"
   ]
  },
  {
   "cell_type": "code",
   "execution_count": 34,
   "metadata": {
    "collapsed": false
   },
   "outputs": [],
   "source": [
    "pd.DataFrame(holiday_list,columns=['Date','Holiday_Name']).to_csv('malaysia_holidays.csv',index=False)"
   ]
  },
  {
   "cell_type": "code",
   "execution_count": 31,
   "metadata": {
    "collapsed": false
   },
   "outputs": [],
   "source": [
    "import pandas as pd"
   ]
  },
  {
   "cell_type": "code",
   "execution_count": 12,
   "metadata": {
    "collapsed": true
   },
   "outputs": [],
   "source": []
  },
  {
   "cell_type": "code",
   "execution_count": 6,
   "metadata": {
    "collapsed": false
   },
   "outputs": [
    {
     "data": {
      "text/plain": [
       "<module 'requests' from 'D:\\\\Anaconda3\\\\lib\\\\site-packages\\\\requests\\\\__init__.py'>"
      ]
     },
     "execution_count": 6,
     "metadata": {},
     "output_type": "execute_result"
    }
   ],
   "source": []
  },
  {
   "cell_type": "code",
   "execution_count": null,
   "metadata": {
    "collapsed": true
   },
   "outputs": [],
   "source": []
  }
 ],
 "metadata": {
  "anaconda-cloud": {},
  "kernelspec": {
   "display_name": "Python [conda root]",
   "language": "python",
   "name": "conda-root-py"
  },
  "language_info": {
   "codemirror_mode": {
    "name": "ipython",
    "version": 3
   },
   "file_extension": ".py",
   "mimetype": "text/x-python",
   "name": "python",
   "nbconvert_exporter": "python",
   "pygments_lexer": "ipython3",
   "version": "3.5.2"
  }
 },
 "nbformat": 4,
 "nbformat_minor": 1
}
