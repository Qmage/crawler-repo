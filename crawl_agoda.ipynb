{
 "cells": [
  {
   "cell_type": "code",
   "execution_count": 1,
   "metadata": {
    "collapsed": true
   },
   "outputs": [],
   "source": [
    "import requests"
   ]
  },
  {
   "cell_type": "code",
   "execution_count": 9,
   "metadata": {
    "collapsed": true
   },
   "outputs": [],
   "source": [
    "import bs4"
   ]
  },
  {
   "cell_type": "code",
   "execution_count": 82,
   "metadata": {
    "collapsed": false
   },
   "outputs": [],
   "source": []
  },
  {
   "cell_type": "code",
   "execution_count": 83,
   "metadata": {
    "collapsed": false
   },
   "outputs": [
    {
     "name": "stderr",
     "output_type": "stream",
     "text": [
      "D:\\Anaconda3\\lib\\site-packages\\bs4\\__init__.py:166: UserWarning: No parser was explicitly specified, so I'm using the best available HTML parser for this system (\"lxml\"). This usually isn't a problem, but if you run this code on another system, or in a different virtual environment, it may use a different parser and behave differently.\n",
      "\n",
      "To get rid of this warning, change this:\n",
      "\n",
      " BeautifulSoup([your markup])\n",
      "\n",
      "to this:\n",
      "\n",
      " BeautifulSoup([your markup], \"lxml\")\n",
      "\n",
      "  markup_type=markup_type))\n"
     ]
    }
   ],
   "source": []
  },
  {
   "cell_type": "code",
   "execution_count": 84,
   "metadata": {
    "collapsed": false
   },
   "outputs": [
    {
     "data": {
      "text/plain": [
       "1639"
      ]
     },
     "execution_count": 84,
     "metadata": {},
     "output_type": "execute_result"
    }
   ],
   "source": [
    "len(bs_text.findAll(attrs={'data-selenium': 'individual-review-section'}))"
   ]
  },
  {
   "cell_type": "code",
   "execution_count": null,
   "metadata": {
    "collapsed": true
   },
   "outputs": [],
   "source": [
    "import csv"
   ]
  },
  {
   "cell_type": "code",
   "execution_count": 109,
   "metadata": {
    "collapsed": false
   },
   "outputs": [],
   "source": [
    "def agoda_crawl(hotelid, hotelname, pagesize=1000):\n",
    "    pagenum = 0\n",
    "    reviews_length = pagesize\n",
    "    with open(\"{}.csv\".format(hotelname),\"w\",encoding='utf-8') as csvfile:\n",
    "        writer = csv.DictWriter(csvfile, \n",
    "                                ['hotel_name','hotel_id','review_date', 'comments_title', 'review_roomtype', 'data_review_rating_decimal', 'reviewer_stay_detail', 'reviews_comments', 'data_review_rating', 'reviewer_name', 'reviewer_traveller_type', 'reviewer_origin'], delimiter=',', lineterminator='\\n')\n",
    "        writer.writeheader()\n",
    "        while reviews_length >= pagesize:\n",
    "            pagenum += 1\n",
    "            r = requests.get('https://www.agoda.com/NewSite/en-gb/Review/ReviewComments?hotelId={hotelid}&providerId=332&demographicId=0&page={pagenum}&pageSize={pagesize}&sorting=1&providerIds=332&isReviewPage=false&isCrawlablePage=true'.format(\n",
    "                    hotelid=hotelid, pagesize=pagesize\n",
    "                    ,pagenum=pagenum))\n",
    "            bs_text = bs4.BeautifulSoup(r.text,\"lxml\")\n",
    "            reviews_in_page = bs_text.findAll(attrs={'data-selenium': 'individual-review-section'})\n",
    "            reviews_length = len(reviews_in_page)\n",
    "            for i in reviews_in_page:\n",
    "                data = {}\n",
    "                data['hotel_name']=hotelname\n",
    "                data['hotel_id']=hotelid\n",
    "                data['data_review_rating'] = i.find(attrs={'data-selenium': 'individual-review-rate'}).attrs['data-review-rating']\n",
    "                data['data_review_rating_decimal'] = i.find(attrs={'data-selenium': 'individual-review-rate'}).attrs['data-review-rating-decimal']\n",
    "                data['reviewer_name'] = i.find(attrs={'data-selenium': 'reviewer-name'}).find('strong').text.strip()\n",
    "                data['reviewer_origin'] = ''.join(i.find(attrs={'data-selenium': 'reviewer-name'}).findAll(text=True, recursive=False)).replace('from ','').strip()\n",
    "                data['reviewer_traveller_type'] = i.find(attrs={'data-selenium': 'reviewer-traveller-type'}).text.strip()\n",
    "                review_roomtype = i.find(attrs={'data-selenium': 'review-roomtype'})\n",
    "                if review_roomtype:\n",
    "                    data['review_roomtype'] = review_roomtype.text.strip()\n",
    "                data['reviewer_stay_detail'] = i.find(attrs={'data-selenium': 'reviewer-stay-detail'}).text.replace('Stayed ','').strip()\n",
    "                data['comments_title'] = i.find(attrs={'data-selenium': 'comments-title'}).text.strip()\n",
    "                reviews_comments = i.find(attrs={'data-selenium': 'reviews-comments'})\n",
    "                if reviews_comments:\n",
    "                    data['reviews_comments'] = reviews_comments.text.strip()\n",
    "                data['review_date'] = parse(i.find(attrs={'data-selenium': 'review-date'}).text.replace('Reviewed ','').strip()).isoformat()\n",
    "\n",
    "                writer.writerow(data)"
   ]
  },
  {
   "cell_type": "code",
   "execution_count": 106,
   "metadata": {
    "collapsed": false
   },
   "outputs": [
    {
     "name": "stderr",
     "output_type": "stream",
     "text": [
      "D:\\Anaconda3\\lib\\site-packages\\bs4\\__init__.py:166: UserWarning: No parser was explicitly specified, so I'm using the best available HTML parser for this system (\"lxml\"). This usually isn't a problem, but if you run this code on another system, or in a different virtual environment, it may use a different parser and behave differently.\n",
      "\n",
      "To get rid of this warning, change this:\n",
      "\n",
      " BeautifulSoup([your markup])\n",
      "\n",
      "to this:\n",
      "\n",
      " BeautifulSoup([your markup], \"lxml\")\n",
      "\n",
      "  markup_type=markup_type))\n"
     ]
    }
   ],
   "source": [
    "agoda_crawl('128436','The_Gardens_Hotel')"
   ]
  },
  {
   "cell_type": "code",
   "execution_count": 107,
   "metadata": {
    "collapsed": false
   },
   "outputs": [
    {
     "name": "stderr",
     "output_type": "stream",
     "text": [
      "D:\\Anaconda3\\lib\\site-packages\\bs4\\__init__.py:166: UserWarning: No parser was explicitly specified, so I'm using the best available HTML parser for this system (\"lxml\"). This usually isn't a problem, but if you run this code on another system, or in a different virtual environment, it may use a different parser and behave differently.\n",
      "\n",
      "To get rid of this warning, change this:\n",
      "\n",
      " BeautifulSoup([your markup])\n",
      "\n",
      "to this:\n",
      "\n",
      " BeautifulSoup([your markup], \"lxml\")\n",
      "\n",
      "  markup_type=markup_type))\n"
     ]
    }
   ],
   "source": [
    "agoda_crawl('69246','The_Boulevard_Hotel')"
   ]
  },
  {
   "cell_type": "code",
   "execution_count": 110,
   "metadata": {
    "collapsed": false
   },
   "outputs": [],
   "source": [
    "agoda_crawl('63299','Cititel_MidValley_Hotel')"
   ]
  },
  {
   "cell_type": "code",
   "execution_count": 20,
   "metadata": {
    "collapsed": false
   },
   "outputs": [
    {
     "name": "stdout",
     "output_type": "stream",
     "text": [
      "reviewer-detail\n",
      "individual-review-rate\n",
      "reviewer-name\n",
      "reviewer-traveller-type\n",
      "review-roomtype\n",
      "reviewer-stay-detail\n",
      "comments-detail\n",
      "comments-title\n",
      "reviews-comments\n",
      "review-date\n"
     ]
    }
   ],
   "source": [
    "for i in bs_text.findAll(attrs={'data-selenium': 'individual-review-section'}):\n",
    "    for j in i.findAll():\n",
    "        j.text\n",
    "        if j.has_attr('data-selenium'):\n",
    "            print(j.attrs['data-selenium'])\n",
    "    break"
   ]
  },
  {
   "cell_type": "code",
   "execution_count": 68,
   "metadata": {
    "collapsed": true
   },
   "outputs": [],
   "source": [
    "from dateutil.parser import parse"
   ]
  },
  {
   "cell_type": "code",
   "execution_count": 70,
   "metadata": {
    "collapsed": false
   },
   "outputs": [],
   "source": [
    "dt=\n",
    "dt"
   ]
  },
  {
   "cell_type": "code",
   "execution_count": 72,
   "metadata": {
    "collapsed": false
   },
   "outputs": [
    {
     "data": {
      "text/plain": [
       "'2016-10-08T00:00:00'"
      ]
     },
     "execution_count": 72,
     "metadata": {},
     "output_type": "execute_result"
    }
   ],
   "source": []
  },
  {
   "cell_type": "code",
   "execution_count": null,
   "metadata": {
    "collapsed": true
   },
   "outputs": [],
   "source": [
    "with open(\"Gardens_Hotel.csv\",\"w\") as csvfile:\n",
    "    writer = csv.DictWriter(csvfile, ['HotelName','HotelID','MemberName','ReviewGroupName','CountryName','ReviewDate','ReviewTitle','ReviewPositives','ReviewNegatives','ReviewComments','CheckInDate','CheckOutDate','GuestRating'], delimiter=',', lineterminator='\\n')\n",
    "    writer.writeheader()\n",
    "    requestURL='http://www.agoda.com/api/en-gb/Main/GetReviewComments?HotelId=128436&amp;providerId=332&travellerTypeId=0&pageSize=10000&pageNo=1&sortingOption=1&providerId=332'\n",
    "\n",
    "    try:\n",
    "        myurl=requests.get(requestURL)\n",
    "    except:\n",
    "        print(\"Error opening url\")       \n",
    "\n",
    "    a = myurl.json()\n",
    "    #print(a)\n",
    "    for row in a['Comments']:\n",
    "        thedate = row['Date']\n",
    "        thedate = dateutil.parser.parse(str(thedate))\n",
    "        thedate = str(thedate.year) + \"-\" + str(thedate.month) + \"-\" + str(thedate.day)\n",
    "        thedate = datetime.strptime(thedate, '%Y-%m-%d')\n",
    "        thedate = date.isoformat(thedate)\n",
    "\n",
    "        result={}\n",
    "        result['HotelName']=\"The Gardens Hotel and Residences\"\n",
    "        result['HotelID']=\"128436\"\n",
    "        result['MemberName']=row['Reviewer'].encode('UTF-8')\n",
    "        result['ReviewGroupName']=row['Demographic']\n",
    "        result['CountryName']=row['Country']\n",
    "        result['ReviewDate']=thedate\n",
    "        result['ReviewTitle']=row['Title'].encode('UTF-8')\n",
    "        result['ReviewPositives']=row['Positive'].encode('UTF-8')\n",
    "        result['ReviewNegatives']=row['Negative'].encode('UTF-8')\n",
    "        result['ReviewComments']=row['Body'].encode('UTF-8')\n",
    "        result['CheckInDate']=\"\"\n",
    "        result['CheckOutDate']=\"\"\n",
    "        result['GuestRating']=row['Score']\n",
    "        writer.writerow(result)\n",
    "\n",
    "        print(result)"
   ]
  }
 ],
 "metadata": {
  "kernelspec": {
   "display_name": "Python [Root]",
   "language": "python",
   "name": "Python [Root]"
  },
  "language_info": {
   "codemirror_mode": {
    "name": "ipython",
    "version": 3
   },
   "file_extension": ".py",
   "mimetype": "text/x-python",
   "name": "python",
   "nbconvert_exporter": "python",
   "pygments_lexer": "ipython3",
   "version": "3.5.2"
  }
 },
 "nbformat": 4,
 "nbformat_minor": 0
}
